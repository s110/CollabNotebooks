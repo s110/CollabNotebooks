{
 "nbformat": 4,
 "nbformat_minor": 0,
 "metadata": {
  "colab": {
   "provenance": [],
   "include_colab_link": true
  },
  "kernelspec": {
   "name": "python3",
   "display_name": "Python 3"
  },
  "language_info": {
   "name": "python"
  }
 },
 "cells": [
  {
   "cell_type": "markdown",
   "metadata": {
    "id": "view-in-github",
    "colab_type": "text"
   },
   "source": [
    "<a href=\"https://colab.research.google.com/github/s110/CollabNotebooks/blob/main/Maestria/MachineLearning/Maestr%C3%ADa_Hard_SVM_2024_21ipynb.ipynb\" target=\"_parent\"><img src=\"https://colab.research.google.com/assets/colab-badge.svg\" alt=\"Open In Colab\"/></a>"
   ]
  },
  {
   "cell_type": "markdown",
   "source": [
    " # Practice  Hard SVM.\n",
    " ----\n",
    "  \n",
    "  University : UTEC \\\\\n",
    "  Course       : Machine Learning \\\\\n",
    "  Professor    : Cristian López Del Alamo \\\\\n",
    "  Topic        : Hard SVM \\\\\n",
    "  Termina      : 12:45\n",
    "   \n",
    "\n",
    " ----\n",
    "\n",
    "Write the names and surnames of the members and the percentage of participation of each one in the development of the practice:\n",
    " - Integrante 1: (%)\n",
    " - Integrante 2: (%)\n",
    " - Integrante 3: (%)\n",
    " - Integrante 4: (%)\n",
    "\n",
    "\n",
    " ----\n",
    "\n",
    "\n",
    "  \n",
    "\n"
   ],
   "metadata": {
    "id": "h5URl9pFHUec"
   }
  },
  {
   "cell_type": "code",
   "source": [
    "# Loading libraries\n",
    "import numpy as np\n",
    "import matplotlib.pyplot as plt\n",
    "import pandas as pd\n",
    "import cvxopt\n",
    "import math\n",
    "from sklearn.model_selection import train_test_split\n",
    "from sklearn.metrics import confusion_matrix\n",
    "from sklearn import metrics"
   ],
   "metadata": {
    "id": "sit2AQ1GZDju",
    "ExecuteTime": {
     "end_time": "2025-06-04T03:59:17.311970Z",
     "start_time": "2025-06-04T03:59:17.307798Z"
    }
   },
   "outputs": [],
   "execution_count": 32
  },
  {
   "cell_type": "markdown",
   "source": [
    "# Lagrange Multipliers\n",
    "\n",
    "$\\frac{\\partial f(x)}{ \\partial x} = λ \\frac{\\partial g(  x)}{ \\partial x}$\n",
    "\n",
    "----\n",
    "Find the values of  $λ_i$ for each training elements $X_i$.\n",
    "\n",
    "The  ***GetLambda*** function returns a vector that we will call  lambda, such that   $lambda[i]$ will be  $0$, if the element  $X[i]$ does not intersect with any of the lines   $XW^t + b >=1$ o $XW^t + b >=0$\n",
    "\n",
    "Note: X is a matrix, so $X_i$ will be a  $K$-dimensional vector that represent the  i-th  object or  $k$-dimensional point, and  $X_{ij}$ is  the  j-th  element of the  i-th objet.\n",
    "\n",
    "----\n",
    "\n",
    "\n",
    "- **Note: The code for finding the lambda values is provided to you.**"
   ],
   "metadata": {
    "id": "_-o70Lb1qRVv"
   }
  },
  {
   "cell_type": "code",
   "source": [
    "import numpy as np\n",
    "from cvxopt import matrix, solvers\n",
    "\n",
    "def GetLambda(X, y):\n",
    "    n, m = X.shape\n",
    "    y = y.astype(float)\n",
    "    y_col = y.reshape(-1, 1)\n",
    "    K = np.dot(X, X.T) * np.dot(y_col, y_col.T)  # Kernel\n",
    "    P = matrix(K)\n",
    "    q = matrix(-np.ones(n))\n",
    "    G = matrix(-np.eye(n))\n",
    "    h = matrix(np.zeros(n))\n",
    "    A = matrix(y.reshape(1, -1))\n",
    "    b = matrix(np.zeros(1))\n",
    "    sol = solvers.qp(P, q, G, h, A, b)\n",
    "    alpha = np.array(sol['x'])\n",
    "    return alpha\n",
    "\n",
    "#Ejemplo para utilizar esta función\n",
    "#lamda = GetLambda(X,Y)\n",
    "#sv = lamda > 1e-5\n",
    "#print(sv)"
   ],
   "metadata": {
    "id": "vI6Hn-6UUV1I",
    "ExecuteTime": {
     "end_time": "2025-06-04T05:10:39.695968Z",
     "start_time": "2025-06-04T05:10:39.690214Z"
    }
   },
   "outputs": [],
   "execution_count": 46
  },
  {
   "cell_type": "markdown",
   "source": [
    "## 2 Calculation of the Weights W\n",
    "$W_j = \\sum_{i=0}^n \\lambda_iy_ix_{ij}$  \n",
    "\n",
    "----\n",
    "Where: $λ_i$ represent  $i-th$ lagrange multiplier, $W_j$ is the $j-th$ weight,   $x_{ij}$ denotes the value of feacture $(j)$ for the $(i)-th$ training objetc, and $y_i$ is the expected output (1 or -1) for the $i-th$ object.\n",
    "\n",
    "$W_j = \\sum_{i=0}^n \\lambda_iy_ix_{ij}$  \n",
    "Note that the summation only includes elements for which the Lagrange\n",
    "\n",
    "----\n",
    "\n",
    "multiplier $lamnda_i$ is nonzero.\n",
    "\n"
   ],
   "metadata": {
    "id": "Lbvs2lvNlmNa"
   }
  },
  {
   "cell_type": "code",
   "source": [
    "import numpy as np\n",
    "\n",
    "def Get_W(X, Y, lambda_list):\n",
    "  \"\"\"\n",
    "  Calcula el vector de pesos W para un SVM lineal.\n",
    "\n",
    "  Args:\n",
    "    X (np.ndarray): Matriz de datos de entrenamiento, donde cada fila es una\n",
    "                    muestra y cada columna es una característica.\n",
    "                    Dimensiones: (n_samples, n_features).\n",
    "    Y (np.ndarray): Vector de etiquetas de clase (1 o -1) para cada muestra.\n",
    "                    Dimensiones: (n_samples,) o (n_samples, 1).\n",
    "    lambda_list (np.ndarray): Vector de multiplicadores de Lagrange.\n",
    "                              Dimensiones: (n_samples,) o (n_samples, 1).\n",
    "\n",
    "  Returns:\n",
    "    np.ndarray: El vector de pesos W. Dimensiones: (n_features,).\n",
    "  \"\"\"\n",
    "  # Asegurarse de que lambda_list y Y sean arrays 1D para cálculos consistentes.\n",
    "  # La salida de GetLambda (sol['x']) es una matriz cvxopt, luego convertida a np.array,\n",
    "  # que probablemente tiene forma (n_samples, 1). Usamos flatten().\n",
    "  # Y también podría ser (n_samples,) o (n_samples, 1).\n",
    "  lambda_flat = lambda_list.flatten()\n",
    "  Y_flat = Y.flatten()\n",
    "\n",
    "  # n_samples, n_features = X.shape # No es estrictamente necesario aquí\n",
    "\n",
    "  # La fórmula es W_j = sum_i (lambda_i * y_i * x_ij)\n",
    "  # Esto se puede vectorizar como W = X^T @ (lambda * y)\n",
    "\n",
    "  # 1. Calcular el término (lambda_i * y_i) para cada muestra.\n",
    "  # Este término pondera la contribución de cada muestra.\n",
    "  # Si lambda_i es cercano a 0 (vector no de soporte), su contribución es mínima.\n",
    "  weighted_terms = lambda_flat * Y_flat\n",
    "\n",
    "  # 2. Calcular W.\n",
    "  # W_j = sum_i (weighted_terms_i * X_ij)\n",
    "  # Esto es equivalente a la transpuesta de X multiplicada por los términos ponderados.\n",
    "  # X.T tiene dimensiones (n_features, n_samples)\n",
    "  # weighted_terms tiene dimensiones (n_samples,)\n",
    "  # El resultado W tendrá dimensiones (n_features,)\n",
    "  W = np.dot(X.T, weighted_terms)\n",
    "\n",
    "  return W"
   ],
   "metadata": {
    "id": "xJwm8DaClJ-f",
    "ExecuteTime": {
     "end_time": "2025-06-04T03:59:17.355711Z",
     "start_time": "2025-06-04T03:59:17.352312Z"
    }
   },
   "outputs": [],
   "execution_count": 34
  },
  {
   "cell_type": "markdown",
   "source": [
    "## Finding the Bias (b)\n",
    "\n",
    "$XW^t + b = 0$\n",
    "\n",
    "$b = - \\frac{1}{n}∑_{i=0}^n X_iW^t$\n",
    "\n",
    "Where $X_i$ is a $k$-dimensional vector representing the $i$-th object, and $k$ is the number of features of the object.\n",
    "\n"
   ],
   "metadata": {
    "id": "wctPuU-jnU0Q"
   }
  },
  {
   "cell_type": "code",
   "source": [
    "def Get_b(X, W):\n",
    "  \"\"\"\n",
    "  Calcula el término de sesgo b para un SVM lineal usando la fórmula\n",
    "  b = - (1/n) * sum(X_i @ W).\n",
    "\n",
    "  Args:\n",
    "    X (np.ndarray): Matriz de datos de entrenamiento, donde cada fila es una\n",
    "                    muestra y cada columna es una característica.\n",
    "                    Dimensiones: (n_samples, n_features).\n",
    "    W (np.ndarray): Vector de pesos W. Asumimos que es un array 1D.\n",
    "                    Dimensiones: (n_features,).\n",
    "\n",
    "  Returns:\n",
    "    float: El término de sesgo b.\n",
    "  \"\"\"\n",
    "  # n_samples es el número de filas en X\n",
    "  n_samples = X.shape[0]\n",
    "\n",
    "  # W es un vector 1D (n_features,).\n",
    "  # X es una matriz (n_samples, n_features).\n",
    "  # np.dot(X, W) calcula el producto punto de cada fila de X con W.\n",
    "  # El resultado es un array 1D de longitud n_samples, donde cada\n",
    "  # elemento es X_i @ W^T (o X_i · W).\n",
    "  # Ejemplo:\n",
    "  # X = [[x11, x12], [x21, x22]]\n",
    "  # W = [w1, w2]\n",
    "  # np.dot(X, W) = [x11*w1 + x12*w2, x21*w1 + x22*w2]\n",
    "  xw_products = np.dot(X, W)\n",
    "\n",
    "  # Sumamos todos estos productos punto\n",
    "  sum_xw_products = np.sum(xw_products)\n",
    "\n",
    "  # Calculamos el promedio de los productos punto\n",
    "  mean_xw_products = sum_xw_products / n_samples\n",
    "\n",
    "  # b es el negativo de este promedio\n",
    "  b = -mean_xw_products\n",
    "\n",
    "  return b"
   ],
   "metadata": {
    "id": "IujB29jtnUl7",
    "ExecuteTime": {
     "end_time": "2025-06-04T03:59:17.388314Z",
     "start_time": "2025-06-04T03:59:17.383869Z"
    }
   },
   "outputs": [],
   "execution_count": 35
  },
  {
   "cell_type": "markdown",
   "source": [
    "## Testing Stage\n",
    "\n",
    "----\n",
    "For this stage, one should only calculate :\n",
    "\n",
    "- $f(X_j) = X_jW^t + b$\n",
    "\n",
    "But since we have already calculated the values of the parameters $W$ and  $b$, then by substituting we have :\n",
    "\n",
    "- $f(X_j) = \\sum_{i=0}^n \\lambda_iy_i<X_{i},X_{j}> + b$\n",
    "\n",
    "Donde: $X_i$ is the i-th  training vector and  $X_j$   is the new vector that passes through the model for predicting the class (1 or -1)\n",
    "\n",
    "Finally, to determine which class the new vector $X_j$   belongs to, it is sufficient to check the sign of f(X_j).\n",
    "\n",
    "  - **If $f(X_j) >=0$ then $Y_j$ = 1 else $Y_j = -1$**\n",
    "  -----"
   ],
   "metadata": {
    "id": "k7L3GAtNoUo7"
   }
  },
  {
   "cell_type": "code",
   "source": [
    "def Test(X_new, W, b):\n",
    "  \"\"\"\n",
    "  Predice las etiquetas de clase para nuevas muestras utilizando un modelo SVM lineal\n",
    "  previamente entrenado (con W y b conocidos).\n",
    "\n",
    "  Args:\n",
    "    X_new (np.ndarray): Matriz de nuevas muestras a clasificar.\n",
    "                        Cada fila es una muestra, cada columna es una característica.\n",
    "                        Dimensiones: (n_new_samples, n_features).\n",
    "    W (np.ndarray): Vector de pesos del SVM.\n",
    "                    Asumimos que es un array 1D.\n",
    "                    Dimensiones: (n_features,).\n",
    "    b (float): Término de sesgo del SVM.\n",
    "\n",
    "  Returns:\n",
    "    np.ndarray: Un vector de etiquetas de clase predichas (1 o -1)\n",
    "                para cada muestra en X_new.\n",
    "                Dimensiones: (n_new_samples,).\n",
    "  \"\"\"\n",
    "  # Calcular la función de decisión para cada muestra en X_new:\n",
    "  # f(X_j) = X_j @ W + b\n",
    "  # np.dot(X_new, W) calcula el producto punto de cada fila de X_new con W.\n",
    "  # Si X_new es (m, k) y W es (k,), el resultado es (m,).\n",
    "  decision_scores = np.dot(X_new, W) + b\n",
    "\n",
    "  # Aplicar la regla de clasificación:\n",
    "  # Si f(X_j) >= 0, entonces Y_j = 1\n",
    "  # Si f(X_j) < 0, entonces Y_j = -1\n",
    "  # La función np.where es ideal para esto.\n",
    "  predictions = np.where(decision_scores >= 0, 1, -1)\n",
    "\n",
    "  return predictions"
   ],
   "metadata": {
    "id": "froBqp3Mp9C5",
    "ExecuteTime": {
     "end_time": "2025-06-04T03:59:17.408171Z",
     "start_time": "2025-06-04T03:59:17.405037Z"
    }
   },
   "outputs": [],
   "execution_count": 36
  },
  {
   "cell_type": "markdown",
   "source": [
    "Database for Testing:\n",
    "[Download](https://docs.google.com/spreadsheets/d/15-E3kiLJ6bCyXuJvSmxYAp2QYMkPX2QlQ597fAsPYy8/edit#gid=0).\n",
    "\n",
    "----\n",
    "Download the database to your disk and use files.upload() to load it onto the drive. The code is provided.\n",
    "----\n",
    "\n",
    "\n",
    "- Split the dataset into 70% for training and 30% for testing.\n",
    "- Add a value of 1 for the first class and -1 for the second class.\n",
    "- In the testing stage, find the number of elements correctly classified and the number of elements incorrectly classified for each class\n",
    "\n",
    "- Create a [confusion matrix](https://scikit-learn.org/stable/modules/generated/sklearn.metrics.confusion_matrix.html) which will show us the efficiency of the method.\n",
    "\n",
    "- Do not forget to normalize the data.\n",
    "\n",
    "- Plot the lines that separate both classes.\n",
    "\n",
    "----\n"
   ],
   "metadata": {
    "id": "LslGSJAprlPm"
   }
  },
  {
   "cell_type": "code",
   "source": [
    "# code for loading  the Dataset\n",
    "import pandas as pd\n",
    "import numpy as np\n",
    "\n",
    "url='https://github.com/s110/CollabNotebooks/raw/refs/heads/main/Maestria/MachineLearning/SMV/DataSet_Iris_2_Clases.csv'\n",
    "\n",
    "data = pd.read_csv(url,sep=';')\n",
    "\n",
    "X_df = data[[\"sepal.length\",\"sepal.width\",\"petal.length\",\"petal.width\"]]\n",
    "Y_df = data[[\"variety\"]]\n",
    "print(X_df)\n",
    "\n",
    "# Splitting the dataset into training and testing\n",
    "\n",
    "from sklearn.model_selection import train_test_split\n",
    "\n",
    "\n",
    "# --- 1. Conversión de Etiquetas ---\n",
    "# Identificar las clases únicas\n",
    "unique_classes = Y_df['variety'].unique()\n",
    "if len(unique_classes) != 2:\n",
    "    raise ValueError(\"Se esperan exactamente dos clases para este SVM binario.\")\n",
    "\n",
    "# Mapear la primera clase a 1 y la segunda a -1\n",
    "class_mapping = {unique_classes[0]: 1, unique_classes[1]: -1}\n",
    "Y_numeric = Y_df['variety'].map(class_mapping).values # .values para obtener un array NumPy\n",
    "\n",
    "# --- División del Dataset ---\n",
    "# (Ya lo tenías, solo asegurándonos de usar Y_numeric)\n",
    "X_train_df, X_test_df, Y_train, Y_test = train_test_split(\n",
    "    X_df, Y_numeric, random_state=104, test_size=0.30, shuffle=True\n",
    ")\n",
    "\n",
    "# Convertir DataFrames de X a arrays NumPy para las funciones SVM\n",
    "X_train = X_train_df.values\n",
    "X_test = X_test_df.values\n",
    "\n",
    "print(\"Forma de X_train:\", X_train.shape)\n",
    "print(\"Forma de Y_train:\", Y_train.shape)\n",
    "print(\"Forma de X_test:\", X_test.shape)\n",
    "print(\"Forma de Y_test:\", Y_test.shape)\n",
    "print(\"Clases únicas en Y_train:\", np.unique(Y_train))\n",
    "print(\"Clases únicas en Y_test:\", np.unique(Y_test))"
   ],
   "metadata": {
    "id": "iwAZ6rT9Wq2R",
    "ExecuteTime": {
     "end_time": "2025-06-04T05:13:52.011339Z",
     "start_time": "2025-06-04T05:13:51.433896Z"
    }
   },
   "outputs": [
    {
     "name": "stdout",
     "output_type": "stream",
     "text": [
      "    sepal.length  sepal.width  petal.length  petal.width\n",
      "0            5.1          3.5           1.4          0.2\n",
      "1            4.9          3.0           1.4          0.2\n",
      "2            4.7          3.2           1.3          0.2\n",
      "3            4.6          3.1           1.5          0.2\n",
      "4            5.0          3.6           1.4          0.2\n",
      "..           ...          ...           ...          ...\n",
      "95           5.7          3.0           4.2          1.2\n",
      "96           5.7          2.9           4.2          1.3\n",
      "97           6.2          2.9           4.3          1.3\n",
      "98           5.1          2.5           3.0          1.1\n",
      "99           5.7          2.8           4.1          1.3\n",
      "\n",
      "[100 rows x 4 columns]\n",
      "Forma de X_train: (70, 4)\n",
      "Forma de Y_train: (70,)\n",
      "Forma de X_test: (30, 4)\n",
      "Forma de Y_test: (30,)\n",
      "Clases únicas en Y_train: [-1  1]\n",
      "Clases únicas en Y_test: [-1  1]\n"
     ]
    }
   ],
   "execution_count": 49
  },
  {
   "cell_type": "code",
   "source": [
    "# Obtaining the values of the parameters W and b, to predict the classes to which the values of X_test belong\n",
    "\n",
    "lambda_list=GetLambda(X_train, Y_train)\n",
    "W =  Get_W(X_train,Y_train,lambda_list)\n",
    "b =  Get_b(X_train,W)\n",
    "\n",
    "# Convert all values greater than 0 to 1, and those less than 0 to -1\n",
    "Y_pred  = np.sign(Test(X_test,W,b))\n",
    "\n",
    "# We create a confution matrix\n",
    "confusion_matrix = metrics.confusion_matrix(Y_test, Y_pred)\n",
    "cm_display = metrics.ConfusionMatrixDisplay(confusion_matrix = confusion_matrix, display_labels = [1, -1])\n",
    "cm_display.plot()\n",
    "plt.show()\n"
   ],
   "metadata": {
    "id": "8Nmw8Kpxvc-r",
    "ExecuteTime": {
     "end_time": "2025-06-04T05:15:32.844725Z",
     "start_time": "2025-06-04T05:15:32.572900Z"
    }
   },
   "outputs": [
    {
     "name": "stdout",
     "output_type": "stream",
     "text": [
      "     pcost       dcost       gap    pres   dres\n",
      " 0: -2.1616e+00 -3.7014e+00  1e+02  1e+01  1e+00\n",
      " 1: -3.9314e-01 -1.5104e+00  8e+00  6e-01  8e-02\n",
      " 2: -1.6945e-01 -9.6670e-01  8e-01  1e-16  9e-15\n",
      " 3: -3.6981e-01 -5.5491e-01  2e-01  6e-17  4e-15\n",
      " 4: -4.6037e-01 -5.7986e-01  1e-01  1e-16  4e-15\n",
      " 5: -5.2366e-01 -5.3509e-01  1e-02  1e-16  4e-15\n",
      " 6: -5.3196e-01 -5.3210e-01  1e-04  5e-17  4e-15\n",
      " 7: -5.3207e-01 -5.3207e-01  1e-06  7e-17  4e-15\n",
      " 8: -5.3207e-01 -5.3207e-01  1e-08  7e-17  4e-15\n",
      "Optimal solution found.\n"
     ]
    },
    {
     "data": {
      "text/plain": [
       "<Figure size 640x480 with 2 Axes>"
      ],
      "image/png": "[encoded data removed]"
     },
     "metadata": {},
     "output_type": "display_data"
    }
   ],
   "execution_count": 52
  },
  {
   "cell_type": "markdown",
   "source": [
    "----\n",
    "\n",
    "- Subir el link de su colab a canvas\n",
    "- Disfruten aprendiendo. La única forma de aprender es haciendo.\n",
    "- Buena Suerte.\n",
    "----"
   ],
   "metadata": {
    "id": "dGQYlGzEX8u6"
   }
  },
  {
   "metadata": {
    "ExecuteTime": {
     "end_time": "2025-06-04T05:18:24.514388Z",
     "start_time": "2025-06-04T05:18:23.802758Z"
    }
   },
   "cell_type": "code",
   "source": [
    "from sklearn.preprocessing import StandardScaler\n",
    "# --- 2. Normalización de Características ---\n",
    "scaler = StandardScaler()\n",
    "X_train_normalized = scaler.fit_transform(X_train)\n",
    "X_test_normalized = scaler.transform(X_test) # Usar el mismo scaler ajustado en train\n",
    "\n",
    "print(\"\\nPrimeras 2 filas de X_train normalizado:\\n\", X_train_normalized[:2])\n",
    "print(\"Media de X_train_normalized (debería ser cercana a 0):\", np.mean(X_train_normalized, axis=0))\n",
    "print(\"Std de X_train_normalized (debería ser cercana a 1):\", np.std(X_train_normalized, axis=0))\n",
    "\n",
    "# --- 3. Entrenamiento del Modelo SVM ---\n",
    "print(\"\\nEntrenando el modelo SVM...\")\n",
    "# Asegurarse de que Y_train sea un vector columna para GetLambda si es necesario\n",
    "# o ajustar GetLambda para que maneje Y 1D correctamente.\n",
    "# La implementación actual de GetLambda espera y.reshape(1,-1) para A,\n",
    "# y y.astype(float) para el cálculo de K. Y_train ya es 1D.\n",
    "lambda_values = GetLambda(X_train_normalized, Y_train)\n",
    "print(\"Forma de lambda_values:\", lambda_values.shape)\n",
    "\n",
    "W_vector = Get_W(X_train_normalized, Y_train, lambda_values)\n",
    "print(\"Vector de pesos W:\", W_vector)\n",
    "print(\"Forma de W_vector:\", W_vector.shape)\n",
    "\n",
    "# Para Get_b, la fórmula que usamos es b = - (1/n) * sum(X_i @ W)\n",
    "# Alternativamente, b se puede calcular usando vectores de soporte.\n",
    "# b_offset = Get_b(X_train_normalized, W_vector)\n",
    "\n",
    "# Cálculo de b usando vectores de soporte (más robusto para SVM)\n",
    "# Identificar vectores de soporte (aquellos con lambda > umbral pequeño)\n",
    "support_vector_indices = np.where(lambda_values.flatten() > 1e-5)[0]\n",
    "if len(support_vector_indices) == 0:\n",
    "    print(\"Advertencia: No se encontraron vectores de soporte. El modelo puede no haber convergido bien.\")\n",
    "    # Fallback a la media si no hay SVs (aunque esto es inusual)\n",
    "    b_offset = Get_b(X_train_normalized, W_vector)\n",
    "else:\n",
    "    # Calcular b para cada vector de soporte y promediar\n",
    "    # b = y_s - X_s @ W\n",
    "    b_values_sv = Y_train[support_vector_indices] - np.dot(X_train_normalized[support_vector_indices], W_vector)\n",
    "    b_offset = np.mean(b_values_sv)\n",
    "\n",
    "print(\"Término de sesgo b:\", b_offset)\n",
    "\n",
    "\n",
    "# --- 4. Prueba del Modelo ---\n",
    "print(\"\\nProbando el modelo...\")\n",
    "Y_pred = Test(X_test_normalized, W_vector, b_offset)\n",
    "print(\"Predicciones (primeros 10):\", Y_pred[:10])\n",
    "print(\"Valores reales (primeros 10):\", Y_test[:10])\n",
    "\n",
    "# --- 5. Evaluación del Modelo ---\n",
    "print(\"\\nEvaluación del modelo:\")\n",
    "correct_predictions = np.sum(Y_pred == Y_test)\n",
    "total_predictions = len(Y_test)\n",
    "accuracy = correct_predictions / total_predictions\n",
    "print(f\"Precisión (Accuracy): {accuracy:.4f}\")\n",
    "\n",
    "# Elementos correctamente e incorrectamente clasificados por clase\n",
    "for cls_val in np.unique(Y_test):\n",
    "    cls_mask_test = (Y_test == cls_val)\n",
    "    cls_mask_pred = (Y_pred == cls_val)\n",
    "\n",
    "    correctly_classified = np.sum(cls_mask_test & cls_mask_pred)\n",
    "    # Incorrectamente clasificados para esta clase verdadera:\n",
    "    # Son aquellos donde Y_test es cls_val PERO Y_pred NO es cls_val\n",
    "    incorrectly_classified = np.sum(cls_mask_test & ~cls_mask_pred)\n",
    "\n",
    "    print(f\"Clase {int(cls_val)}:\")\n",
    "    print(f\"  Correctamente clasificados: {correctly_classified}\")\n",
    "    print(f\"  Incorrectamente clasificados: {incorrectly_classified}\")\n",
    "\n",
    "# Matriz de Confusión\n",
    "cm = metrics.confusion_matrix(Y_test, Y_pred)\n",
    "print(\"\\nMatriz de Confusión:\")\n",
    "print(cm)\n",
    "\n",
    "# Para una mejor visualización de la matriz de confusión\n",
    "import seaborn as sns # Opcional, para una gráfica más bonita\n",
    "\n",
    "plt.figure(figsize=(6,4))\n",
    "sns.heatmap(cm, annot=True, fmt='d', cmap='Blues',\n",
    "            xticklabels=class_mapping.keys(), # O [1, -1] si prefieres\n",
    "            yticklabels=class_mapping.keys()) # O [1, -1] si prefieres\n",
    "plt.xlabel('Predicción')\n",
    "plt.ylabel('Valor Real')\n",
    "plt.title('Matriz de Confusión')\n",
    "plt.show()"
   ],
   "outputs": [
    {
     "name": "stdout",
     "output_type": "stream",
     "text": [
      "\n",
      "Primeras 2 filas de X_train normalizado:\n",
      " [[ 1.03971245 -0.17508023  1.20363017  1.0967791 ]\n",
      " [-0.52208737  1.38472548 -0.95138424 -0.6763049 ]]\n",
      "Media de X_train_normalized (debería ser cercana a 0): [-1.18952467e-15 -3.71131697e-16  1.15780401e-16  1.04678171e-16]\n",
      "Std de X_train_normalized (debería ser cercana a 1): [1. 1. 1. 1.]\n",
      "\n",
      "Entrenando el modelo SVM...\n",
      "     pcost       dcost       gap    pres   dres\n",
      " 0: -2.1816e+00 -3.6160e+00  1e+02  1e+01  1e+00\n",
      " 1: -5.2604e-01 -1.3391e+00  1e+01  8e-01  1e-01\n",
      " 2: -1.1901e-01 -8.9195e-01  8e-01  2e-16  6e-16\n",
      " 3: -3.4787e-01 -5.7000e-01  2e-01  9e-17  4e-16\n",
      " 4: -4.8540e-01 -5.3575e-01  5e-02  6e-17  3e-16\n",
      " 5: -5.1148e-01 -5.3353e-01  2e-02  2e-16  3e-16\n",
      " 6: -5.2747e-01 -5.2909e-01  2e-03  2e-16  4e-16\n",
      " 7: -5.2876e-01 -5.2881e-01  5e-05  1e-16  5e-16\n",
      " 8: -5.2880e-01 -5.2880e-01  5e-07  2e-16  5e-16\n",
      "Optimal solution found.\n",
      "Forma de lambda_values: (70, 1)\n",
      "Vector de pesos W: [-0.32641071  0.27152156 -0.71457847 -0.60556692]\n",
      "Forma de W_vector: (4,)\n",
      "Término de sesgo b: -0.30133802472563265\n",
      "\n",
      "Probando el modelo...\n",
      "Predicciones (primeros 10): [ 1  1  1  1 -1 -1 -1 -1 -1 -1]\n",
      "Valores reales (primeros 10): [ 1  1  1  1 -1 -1 -1 -1 -1 -1]\n",
      "\n",
      "Evaluación del modelo:\n",
      "Precisión (Accuracy): 1.0000\n",
      "Clase -1:\n",
      "  Correctamente clasificados: 15\n",
      "  Incorrectamente clasificados: 0\n",
      "Clase 1:\n",
      "  Correctamente clasificados: 15\n",
      "  Incorrectamente clasificados: 0\n",
      "\n",
      "Matriz de Confusión:\n",
      "[[15  0]\n",
      " [ 0 15]]\n"
     ]
    },
    {
     "data": {
      "text/plain": [
       "<Figure size 600x400 with 2 Axes>"
      ],
      "image/png": "[encoded data removed]"
     },
     "metadata": {},
     "output_type": "display_data"
    }
   ],
   "execution_count": 55
  },
  {
   "metadata": {
    "ExecuteTime": {
     "end_time": "2025-06-04T05:21:53.504676Z",
     "start_time": "2025-06-04T05:21:53.400281Z"
    }
   },
   "cell_type": "code",
   "source": [
    "# --- 6. Visualización del Hiperplano Separador (en 2D) ---\n",
    "# Solo podemos graficar en 2D. Elegiremos las dos primeras características normalizadas.\n",
    "# Esto es una simplificación. El hiperplano real existe en 4D.\n",
    "\n",
    "if X_train_normalized.shape[1] >= 2: # Si tenemos al menos 2 características\n",
    "    X_vis = X_test_normalized[:, :2] # Usar las dos primeras características para visualización\n",
    "    W_vis = W_vector[:2]             # Pesos correspondientes a esas dos características\n",
    "    # Para la línea de decisión: x1*w1 + x2*w2 + (x3*w3 + x4*w4)_avg + b = 0\n",
    "    # Si solo usamos w1, w2, b, estamos proyectando.\n",
    "    # Una forma más simple para la visualización 2D es considerar solo las 2D features\n",
    "    # y el hiperplano en ese subespacio: x_vis_1*w_vis_1 + x_vis_2*w_vis_2 + b_offset = 0\n",
    "    # Entonces, x_vis_2 = (-b_offset - x_vis_1*w_vis_1) / w_vis_2\n",
    "\n",
    "    plt.figure(figsize=(10, 6))\n",
    "    # Graficar los puntos de prueba\n",
    "    scatter = plt.scatter(X_vis[:, 0], X_vis[:, 1], c=Y_test, cmap=plt.cm.coolwarm, s=30, edgecolors='k')\n",
    "    plt.xlabel(f'Característica 1 Normalizada ({X_df.columns[0]})')\n",
    "    plt.ylabel(f'Característica 2 Normalizada ({X_df.columns[1]})')\n",
    "    plt.title('SVM: Hiperplano Separador y Márgenes (en 2D proyectado)')\n",
    "\n",
    "    # Crear un grid para graficar el hiperplano\n",
    "    ax = plt.gca()\n",
    "    xlim = ax.get_xlim()\n",
    "    ylim = ax.get_ylim()\n",
    "\n",
    "    xx = np.linspace(xlim[0], xlim[1], 50)\n",
    "    yy = np.linspace(ylim[0], ylim[1], 50)\n",
    "    YY, XX = np.meshgrid(yy, xx)\n",
    "    xy = np.vstack([XX.ravel(), YY.ravel()]).T # Puntos del grid\n",
    "\n",
    "    # Para graficar la línea de decisión en el espacio 2D de las características seleccionadas,\n",
    "    # necesitamos considerar el efecto de las otras dimensiones si W_vector tiene más de 2 elementos.\n",
    "    # Una aproximación es asumir que las otras características están en su media (0 después de normalizar)\n",
    "    # Z = w1*x1 + w2*x2 + w3*x3_mean + w4*x4_mean + b\n",
    "    # Si x3_mean y x4_mean son 0 (por normalización), entonces Z = w1*x1 + w2*x2 + b\n",
    "    # Esto es si W_vis solo toma los primeros dos componentes de W_vector.\n",
    "    # Si W_vector tiene más de 2 componentes, la línea de decisión en el plano (x1,x2)\n",
    "    # es (W[0]*x1 + W[1]*x2 + sum(W[k]*mean(X_train_norm[:,k])) + b = 0)\n",
    "    # Como mean(X_train_norm[:,k]) es 0 para k>=2:\n",
    "    # W[0]*x1 + W[1]*x2 + b = 0\n",
    "    # x2 = (-b - W[0]*x1) / W[1]\n",
    "\n",
    "    if W_vis.shape[0] == 2 and W_vis[1] != 0: # Asegurarse de que W_vis[1] no sea cero\n",
    "        # Línea de decisión: w0*x + w1*y + b = 0 => y = (-b - w0*x) / w1\n",
    "        a = -W_vis[0] / W_vis[1]\n",
    "        line_y = a * xx - (b_offset / W_vis[1])\n",
    "        plt.plot(xx, line_y, 'k-')\n",
    "        # Márgenes: y = a*xx - (b_offset +/- 1) / w1\n",
    "        plt.plot(xx, line_y - 1 / W_vis[1], 'k--')\n",
    "        plt.plot(xx, line_y + 1 / W_vis[1], 'k--')\n",
    "\n",
    "        # Resaltar vectores de soporte si los hubiera en el conjunto de prueba (más complejo de visualizar directamente aquí)\n",
    "        # Los vectores de soporte originales están en X_train_normalized.\n",
    "        # Podríamos graficar X_train_normalized también.\n",
    "        sv_indices_train = np.where(lambda_values.flatten() > 1e-5)[0]\n",
    "        if len(sv_indices_train) > 0:\n",
    "            plt.scatter(X_train_normalized[sv_indices_train, 0], X_train_normalized[sv_indices_train, 1],\n",
    "                        s=100, facecolors='none', edgecolors='k', label='Vectores de Soporte (Entrenamiento)')\n",
    "        plt.legend()\n",
    "    else:\n",
    "        print(\"No se puede graficar la línea de decisión en 2D con los pesos actuales (W_vis[1] podría ser 0 o W_vis no tiene 2 elementos).\")\n",
    "\n",
    "    plt.xlim(xlim)\n",
    "    plt.ylim(ylim)\n",
    "    plt.show()\n",
    "else:\n",
    "    print(\"No hay suficientes características para la visualización 2D.\")"
   ],
   "outputs": [
    {
     "data": {
      "text/plain": [
       "<Figure size 1000x600 with 1 Axes>"
      ],
      "image/png": "[encoded data removed]"
     },
     "metadata": {},
     "output_type": "display_data"
    }
   ],
   "execution_count": 60
  }
 ]
}
