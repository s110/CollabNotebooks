{
  "nbformat": 4,
  "nbformat_minor": 0,
  "metadata": {
    "colab": {
      "provenance": [],
      "include_colab_link": true
    },
    "kernelspec": {
      "name": "python3",
      "display_name": "Python 3"
    },
    "language_info": {
      "name": "python"
    }
  },
  "cells": [
    {
      "cell_type": "markdown",
      "metadata": {
        "id": "view-in-github",
        "colab_type": "text"
      },
      "source": [
        "<a href=\"https://colab.research.google.com/github/s110/CollabNotebooks/blob/main/Maestria/MachineLearning/Maestr%C3%ADa_Hard_SVM_2024_21ipynb.ipynb\" target=\"_parent\"><img src=\"https://colab.research.google.com/assets/colab-badge.svg\" alt=\"Open In Colab\"/></a>"
      ]
    },
    {
      "cell_type": "markdown",
      "source": [
        " # Practice  Hard SVM.\n",
        " ----\n",
        "  \n",
        "  University : UTEC \\\\\n",
        "  Course       : Machine Learning \\\\\n",
        "  Professor    : Cristian López Del Alamo \\\\\n",
        "  Topic        : Hard SVM \\\\\n",
        "  Termina      : 12:45\n",
        "   \n",
        "\n",
        " ----\n",
        "\n",
        "Write the names and surnames of the members and the percentage of participation of each one in the development of the practice:\n",
        " - Integrante 1: (%)\n",
        " - Integrante 2: (%)\n",
        " - Integrante 3: (%)\n",
        " - Integrante 4: (%)\n",
        "\n",
        "\n",
        " ----\n",
        "\n",
        "\n",
        "  \n",
        "\n"
      ],
      "metadata": {
        "id": "h5URl9pFHUec"
      }
    },
    {
      "cell_type": "code",
      "source": [
        "# Loading libraries\n",
        "import numpy as np\n",
        "import matplotlib.pyplot as plt\n",
        "import pandas as pd\n",
        "import cvxopt\n",
        "import math\n",
        "from sklearn.model_selection import train_test_split\n",
        "from sklearn.metrics import confusion_matrix\n",
        "from sklearn import metrics"
      ],
      "metadata": {
        "id": "sit2AQ1GZDju"
      },
      "execution_count": null,
      "outputs": []
    },
    {
      "cell_type": "markdown",
      "source": [
        "# Lagrange Multipliers\n",
        "\n",
        "$\\frac{\\partial f(x)}{ \\partial x} = λ \\frac{\\partial g(  x)}{ \\partial x}$\n",
        "\n",
        "----\n",
        "Find the values of  $λ_i$ for each training elements $X_i$.\n",
        "\n",
        "The  ***GetLambda*** function returns a vector that we will call  lambda, such that   $lambda[i]$ will be  $0$, if the element  $X[i]$ does not intersect with any of the lines   $XW^t + b >=1$ o $XW^t + b >=0$\n",
        "\n",
        "Note: X is a matrix, so $X_i$ will be a  $K$-dimensional vector that represent the  i-th  object or  $k$-dimensional point, and  $X_{ij}$ is  the  j-th  element of the  i-th objet.\n",
        "\n",
        "----\n",
        "\n",
        "\n",
        "- **Note: The code for finding the lambda values is provided to you.**"
      ],
      "metadata": {
        "id": "_-o70Lb1qRVv"
      }
    },
    {
      "cell_type": "code",
      "source": [
        "import numpy as np\n",
        "from cvxopt import matrix, solvers\n",
        "\n",
        "def GetLambda(X, y):\n",
        "    n, m = X.shape\n",
        "    y = y.astype(float)\n",
        "    K = np.dot(X, X.T) * np.dot(y, y.T)  # Kernel\n",
        "    P = matrix(K)\n",
        "    q = matrix(-np.ones(n))\n",
        "    G = matrix(-np.eye(n))\n",
        "    h = matrix(np.zeros(n))\n",
        "    A = matrix(y.reshape(1, -1))\n",
        "    b = matrix(np.zeros(1))\n",
        "    sol = solvers.qp(P, q, G, h, A, b)\n",
        "    alpha = np.array(sol['x'])\n",
        "    return alpha\n",
        "\n",
        "#Ejemplo para utilizar esta función\n",
        "#lamda = GetLambda(X,Y)\n",
        "#sv = lamda > 1e-5\n",
        "#print(sv)"
      ],
      "metadata": {
        "id": "vI6Hn-6UUV1I"
      },
      "execution_count": null,
      "outputs": []
    },
    {
      "cell_type": "markdown",
      "source": [
        "## 2 Calculation of the Weights W\n",
        "$W_j = \\sum_{i=0}^n \\lambda_iy_ix_{ij}$  \n",
        "\n",
        "----\n",
        "Where: $λ_i$ represent  $i-th$ lagrange multiplier, $W_j$ is the $j-th$ weight,   $x_{ij}$ denotes the value of feacture $(j)$ for the $(i)-th$ training objetc, and $y_i$ is the expected output (1 or -1) for the $i-th$ object.\n",
        "\n",
        "$W_j = \\sum_{i=0}^n \\lambda_iy_ix_{ij}$  \n",
        "Note that the summation only includes elements for which the Lagrange\n",
        "\n",
        "----\n",
        "\n",
        "multiplier $lamnda_i$ is nonzero.\n",
        "\n"
      ],
      "metadata": {
        "id": "Lbvs2lvNlmNa"
      }
    },
    {
      "cell_type": "code",
      "source": [
        "def Get_W(X,Y,lambda_list):\n",
        "  # write your code here\n"
      ],
      "metadata": {
        "id": "xJwm8DaClJ-f"
      },
      "execution_count": null,
      "outputs": []
    },
    {
      "cell_type": "markdown",
      "source": [
        "## Finding the Bias (b)\n",
        "\n",
        "$XW^t + b = 0$\n",
        "\n",
        "$b = - \\frac{1}{n}∑_{i=0}^n X_iW^t$\n",
        "\n",
        "Where $X_i$ is a $k$-dimensional vector representing the $i$-th object, and $k$ is the number of features of the object.\n",
        "\n"
      ],
      "metadata": {
        "id": "wctPuU-jnU0Q"
      }
    },
    {
      "cell_type": "code",
      "source": [
        "def Get_b(X,W):\n",
        "  # write your code here\n"
      ],
      "metadata": {
        "id": "IujB29jtnUl7"
      },
      "execution_count": null,
      "outputs": []
    },
    {
      "cell_type": "markdown",
      "source": [
        "## Testing Stage\n",
        "\n",
        "----\n",
        "For this stage, one should only calculate :\n",
        "\n",
        "- $f(X_j) = X_jW^t + b$\n",
        "\n",
        "But since we have already calculated the values of the parameters $W$ and  $b$, then by substituting we have :\n",
        "\n",
        "- $f(X_j) = \\sum_{i=0}^n \\lambda_iy_i<X_{i},X_{j}> + b$\n",
        "\n",
        "Donde: $X_i$ is the i-th  training vector and  $X_j$   is the new vector that passes through the model for predicting the class (1 or -1)\n",
        "\n",
        "Finally, to determine which class the new vector $X_j$   belongs to, it is sufficient to check the sign of f(X_j).\n",
        "\n",
        "  - **If $f(X_j) >=0$ then $Y_j$ = 1 else $Y_j = -1$**\n",
        "  -----"
      ],
      "metadata": {
        "id": "k7L3GAtNoUo7"
      }
    },
    {
      "cell_type": "code",
      "source": [
        "def Test(X,W,b):\n",
        "  # write your code here\n"
      ],
      "metadata": {
        "id": "froBqp3Mp9C5"
      },
      "execution_count": null,
      "outputs": []
    },
    {
      "cell_type": "markdown",
      "source": [],
      "metadata": {
        "id": "jymUFe2TiM0G"
      }
    },
    {
      "cell_type": "markdown",
      "source": [
        "Database for Testing:\n",
        "[Download](https://docs.google.com/spreadsheets/d/15-E3kiLJ6bCyXuJvSmxYAp2QYMkPX2QlQ597fAsPYy8/edit#gid=0).\n",
        "\n",
        "----\n",
        "Download the database to your disk and use files.upload() to load it onto the drive. The code is provided.\n",
        "----\n",
        "\n",
        "\n",
        "- Split the dataset into 70% for training and 30% for testing.\n",
        "- Add a value of 1 for the first class and -1 for the second class.\n",
        "- In the testing stage, find the number of elements correctly classified and the number of elements incorrectly classified for each class\n",
        "\n",
        "- Create a [confusion matrix](https://scikit-learn.org/stable/modules/generated/sklearn.metrics.confusion_matrix.html) which will show us the efficiency of the method.\n",
        "\n",
        "- Do not forget to normalize the data.\n",
        "\n",
        "- Plot the lines that separate both classes.\n",
        "\n",
        "----\n"
      ],
      "metadata": {
        "id": "LslGSJAprlPm"
      }
    },
    {
      "cell_type": "code",
      "source": [
        "# code for loading  the Dataset\n",
        "import pandas as pd\n",
        "import numpy as np\n",
        "from google.colab import files\n",
        "\n",
        "filename = files.upload()\n",
        "name = list(filename.keys())[0]\n",
        "data = pd.read_csv(name)\n",
        "\n",
        "X = data[[\"sepal.length\",\"sepal.width\",\"petal.length\",\"petal.width\"]]\n",
        "Y = data[[\"variety\"]]\n",
        "print(X)\n",
        "\n",
        "# Splitting the dataset into training and testing\n",
        "\n",
        "from sklearn.model_selection import train_test_split\n",
        "X_train, X_test, Y_train, Y_test = train_test_split(X,Y , random_state=104,  test_size=0.30,    shuffle=True)\n",
        "\n",
        "\n"
      ],
      "metadata": {
        "id": "iwAZ6rT9Wq2R"
      },
      "execution_count": null,
      "outputs": []
    },
    {
      "cell_type": "code",
      "source": [
        "# Obtaining the values of the parameters W and b, to predict the classes to which the values of X_test belong\n",
        "\n",
        "W =  Get_W(X_test,Y_test,lambda_list)\n",
        "b =  Get_b(X_test,W)\n",
        "\n",
        "# Convert all values greater than 0 to 1, and those less than 0 to -1\n",
        "Y_pred  = np.sign(Test(X_test,W,b))\n",
        "\n",
        "# We create a confution matrix\n",
        "confusion_matrix = metrics.confusion_matrix(Y_test, Y_pred)\n",
        "cm_display = metrics.ConfusionMatrixDisplay(confusion_matrix = confusion_matrix, display_labels = [1, -1])\n",
        "cm_display.plot()\n",
        "plt.show()\n"
      ],
      "metadata": {
        "id": "8Nmw8Kpxvc-r"
      },
      "execution_count": null,
      "outputs": []
    },
    {
      "cell_type": "markdown",
      "source": [
        "----\n",
        "\n",
        "- Subir el link de su colab a canvas\n",
        "- Disfruten aprendiendo. La única forma de aprender es haciendo.\n",
        "- Buena Suerte.\n",
        "----"
      ],
      "metadata": {
        "id": "dGQYlGzEX8u6"
      }
    }
  ]
}